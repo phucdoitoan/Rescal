{
 "cells": [
  {
   "cell_type": "code",
   "execution_count": 1,
   "metadata": {},
   "outputs": [],
   "source": [
    "# given X1, X2\n",
    "# X1: n1 x n1 x m1\n",
    "# X2: n2 x n2 x m2"
   ]
  },
  {
   "cell_type": "markdown",
   "metadata": {},
   "source": [
    "# NOTE: one of the big problem is that will the vectors of entities in X1 and X2 lies on a same manifold. (same problem with the previous paper). => if cannot solve this one, this approach is likely to be invalid. (at least on the theoritical base)"
   ]
  },
  {
   "cell_type": "code",
   "execution_count": 3,
   "metadata": {},
   "outputs": [],
   "source": [
    "# consider Wasserstein Loss with L2 cost between entity vectors"
   ]
  },
  {
   "cell_type": "code",
   "execution_count": 1,
   "metadata": {},
   "outputs": [],
   "source": [
    "import time\n",
    "import numpy as np\n",
    "from numpy import dot, zeros, array, eye, kron, prod\n",
    "from numpy.linalg import norm, solve, inv, svd\n",
    "from scipy.sparse import csr_matrix, issparse\n",
    "from scipy.sparse.linalg import eigsh\n",
    "from numpy.random import rand"
   ]
  },
  {
   "cell_type": "code",
   "execution_count": null,
   "metadata": {},
   "outputs": [],
   "source": [
    "# update A1, A2\n",
    "def update()"
   ]
  },
  {
   "cell_type": "code",
   "execution_count": 2,
   "metadata": {},
   "outputs": [],
   "source": [
    "# update R\n",
    "\n",
    "def updateR(X, A, lmbdaR):\n",
    "    rank = A.shape[1]\n",
    "    U, S, Vt = svd(A, full_matrices=False)\n",
    "    Shat = kron(S, S)\n",
    "    Shat = (Shat / (Shat ** 2 + lmbdaR)).reshape(rank, rank)\n",
    "    R = []\n",
    "    for i in range(len(X)):\n",
    "        #Rn = Shat * dot(U.T, X[i].dot(U))\n",
    "        #Rn = dot(Vt.T, dot(Rn, Vt))\n",
    "        Rn = Shat * (U.T @ X[i] @ U)\n",
    "        Rn = Vt.T @ Rn @ Vt\n",
    "        \n",
    "        R.append(Rn)\n",
    "        \n",
    "    return R"
   ]
  },
  {
   "cell_type": "code",
   "execution_count": 3,
   "metadata": {},
   "outputs": [],
   "source": [
    "# update A \n",
    "# do not consider the Wasserstein loss \n",
    "def updateA_rescal(X, A, R, lmbdaA):\n",
    "    n, rank = A.shape\n",
    "    F = zeros((n, rank), dtype=A.dtype)\n",
    "    E = zeros((rank, rank), dtype=A.dtype)\n",
    "    \n",
    "    AtA = dot(A.T, A)\n",
    "    \n",
    "    for i in range(len(X)):\n",
    "        #F += X[i].dot(dot(A, R[i].T)) + X[i].T.dot(dot(A, R[i]))\n",
    "        #E += dot(R[i], dot(AtA, R[i].T)) + dot(R[i].T, dot(AtA, R[i]))\n",
    "        F += X[i] @ A @ R[i].T + X[i].T @ A @ R[i]\n",
    "        E += R[i] @ AtA @ R[i].T + R[i].T @ AtA @ R[i]\n",
    "        \n",
    "    # regularization\n",
    "    I = lmbdaA * eye(rank, dtype=A.dtype)\n",
    "    \n",
    "    # compute update for A\n",
    "    A = F @ inv(I + E)\n",
    "    \n",
    "    return A"
   ]
  },
  {
   "cell_type": "code",
   "execution_count": 4,
   "metadata": {},
   "outputs": [],
   "source": [
    "# update A\n",
    "# Wasserstein loss part\n",
    "def updateA_wass(A, otherA, P):\n",
    "    rank = A.shape[1]\n",
    "    n = P.shape[1]\n",
    "    P1 = dot(P, np.ones(n)).reshape(-1,1)\n",
    "    P1_extend = np.tile(P1, reps=(1,rank))\n",
    "    \n",
    "    return 2 * (A * P1_extend - P @ otherA)"
   ]
  },
  {
   "cell_type": "code",
   "execution_count": 5,
   "metadata": {},
   "outputs": [],
   "source": [
    "# update P\n",
    "from sinkhorn import SinkhornDistance\n",
    "import torch\n",
    "\n",
    "sinkhorn = SinkhornDistance(eps=0.1, max_iter=50, device='cpu')\n",
    "\n",
    "def updateP(A1, A2):\n",
    "    \n",
    "    n1 = A1.shape[0]\n",
    "    n2 = A2.shape[0]\n",
    "    mu1 = torch.ones(n1)/n1\n",
    "    mu2 = torch.ones(n2)/n2\n",
    "    \n",
    "    _, P, _ = sinkhorn(torch.from_numpy(A1), torch.from_numpy(A2), mu1, mu2)\n",
    "    \n",
    "    return P.numpy()\n"
   ]
  },
  {
   "cell_type": "code",
   "execution_count": 6,
   "metadata": {},
   "outputs": [],
   "source": [
    "# compute fit\n",
    "\n",
    "def compute_fit_rescal(X, A, R, lmbdaA, lmbdaR):\n",
    "    \n",
    "    f = 0\n",
    "        \n",
    "    # compute norm of X\n",
    "    normX = [sum(M.data ** 2) for M in X]\n",
    "    sumNorm = sum(normX)\n",
    "    \n",
    "    for i in range(len(X)):\n",
    "        ARAt = A @ R[i] @ A.T\n",
    "        f += norm(X[i] - ARAt) ** 2\n",
    "    \n",
    "    return 1 - f / sumNorm\n",
    "\n",
    "def compute_fit(X1, X2, A1, A2, R1, R2, lmbdaA1, lmbdaA2, lmbdaR1, lmbdaR2):\n",
    "    \n",
    "    f1 = compute_fit_rescal(X1, A1, R1, lmbdaA1, lmbdaR1)\n",
    "    f2 = compute_fit_rescal(X2, A2, R2, lmbdaA2, lmbdaR2)\n",
    "    \n",
    "    return (f1+f2)/2"
   ]
  },
  {
   "cell_type": "code",
   "execution_count": 13,
   "metadata": {},
   "outputs": [],
   "source": [
    "from scipy.sparse import csr_matrix, issparse\n",
    "from scipy.sparse.linalg import eigsh\n",
    "\n",
    "# compute factorization\n",
    "\n",
    "def als_wass(X1, X2, rank, alpha=5, conv = 1e-4):\n",
    "    maxIter = 500\n",
    "\n",
    "    lmbdaA1 = 10\n",
    "    lmbdaA2 = 10\n",
    "    lmbdaR1 = 10\n",
    "    lmbdaR2 = 10\n",
    "\n",
    "    \n",
    "    fit = fitchange = fitold = f = 0\n",
    "    \n",
    "    n1, n2 = X1[0].shape[0], X2[0].shape[0]\n",
    "    k1, k2 = len(X1), len(X2)\n",
    "    \n",
    "    # convert X1, X2 to csr\n",
    "    for i in range(k1):\n",
    "        if issparse(X1[i]):\n",
    "            X1[i] = X1[i].tocsr()\n",
    "            X1[i].sort_indices()\n",
    "    \n",
    "    for i in range(k2):\n",
    "        if issparse(X2[i]):\n",
    "            X2[i] = X2[i].tocsr()\n",
    "            X2[i].sort_indices()\n",
    "    \n",
    "    # initialize A1, A2, X1, X2, P\n",
    "    \n",
    "    S1 = csr_matrix((n1,n1), dtype=np.float)\n",
    "    for i in range(k1):\n",
    "        S1 = S1 + X1[i]\n",
    "        S1 = S1 + X1[i].T\n",
    "    \n",
    "    _, A1 = eigsh(csr_matrix(S1, dtype=np.float, shape=(n1,n1)), rank)\n",
    "    \n",
    "    A1 = np.array(A1, dtype=np.float)\n",
    "    \n",
    "    S2 = csr_matrix((n2,n2), dtype=np.float)\n",
    "    for i in range(k2):\n",
    "        S2 = S2 + X2[i]\n",
    "        S2 = S2 + X2[i].T\n",
    "    \n",
    "    _, A2 = eigsh(csr_matrix(S2, dtype=np.float, shape=(n2,n2)), rank)\n",
    "    \n",
    "    A2 = np.array(A2, dtype=np.float)\n",
    "    \n",
    "    P = np.ones((n1, n2), dtype=np.float) / (n1*n2)\n",
    "    \n",
    "    # initialize R1, R2\n",
    "    R1 = updateR(X1, A1, lmbdaR1)\n",
    "    R2 = updateR(X2, A2, lmbdaR2)\n",
    "\n",
    "    \n",
    "    for itr in range(maxIter):\n",
    "\n",
    "        fitold = fit\n",
    "\n",
    "        # update A1, A2, P\n",
    "        A1_old = A1\n",
    "        A1 = updateA_rescal(X1, A1, R1, lmbdaA1) + alpha * updateA_wass(A1, A2, P)\n",
    "        A2 = updateA_rescal(X2, A2, R2, lmbdaA1) + alpha * updateA_wass(A2, A1_old, P.T)\n",
    "\n",
    "        P = updateP(A1, A2) #update P with sinkhorn\n",
    "\n",
    "        # update R1, R2\n",
    "        R1 = updateR(X1, A1, lmbdaR1)\n",
    "        R2 = updateR(X2, A2, lmbdaR2)\n",
    "\n",
    "        fit = compute_fit(X1, X2, A1, A2, R1, R2, lmbdaA1, lmbdaA2, lmbdaR1, lmbdaR2)\n",
    "\n",
    "        fitchange = abs(fitold - fit)\n",
    "\n",
    "        if itr > 0 and fitchange < conv:\n",
    "            break\n",
    "        \n",
    "    return A1, A2, R1, R2, P"
   ]
  },
  {
   "cell_type": "markdown",
   "metadata": {},
   "source": [
    "### Try with kinships dataset"
   ]
  },
  {
   "cell_type": "code",
   "execution_count": 8,
   "metadata": {},
   "outputs": [],
   "source": [
    "from scipy.io import loadmat"
   ]
  },
  {
   "cell_type": "markdown",
   "metadata": {},
   "source": [
    "### Kinship dataset\n",
    "Denham asked 104 tribe members to provide kinshipterms for each other. Figure 5c shows six of the 26 different kinship terms recorded: for each term, the $(i, j)$ cell in the corresponding matrix indicates whether person $i$ used that term to refer to person $j$."
   ]
  },
  {
   "cell_type": "code",
   "execution_count": 23,
   "metadata": {},
   "outputs": [],
   "source": [
    "# load data\n",
    "\n",
    "mat = loadmat('data/alyawarradata.mat')"
   ]
  },
  {
   "cell_type": "code",
   "execution_count": 24,
   "metadata": {},
   "outputs": [],
   "source": [
    "K = array(mat['Rs'], np.float32)"
   ]
  },
  {
   "cell_type": "code",
   "execution_count": 25,
   "metadata": {},
   "outputs": [
    {
     "data": {
      "text/plain": [
       "(104, 104, 26)"
      ]
     },
     "execution_count": 25,
     "metadata": {},
     "output_type": "execute_result"
    }
   ],
   "source": [
    "K.shape"
   ]
  },
  {
   "cell_type": "code",
   "execution_count": 26,
   "metadata": {},
   "outputs": [
    {
     "data": {
      "text/plain": [
       "[5, 6, 7, 8, 9]"
      ]
     },
     "execution_count": 26,
     "metadata": {},
     "output_type": "execute_result"
    }
   ],
   "source": [
    "l = list(range(10))\n",
    "l[5:15]"
   ]
  },
  {
   "cell_type": "code",
   "execution_count": 27,
   "metadata": {},
   "outputs": [
    {
     "data": {
      "text/plain": [
       "array([ 3, 12, 15, 25, 22,  1, 19, 13, 18,  9,  6, 14, 16, 23,  5,  8,  7,\n",
       "       24,  4, 10, 20, 21,  2, 11, 17,  0], dtype=uint8)"
      ]
     },
     "execution_count": 27,
     "metadata": {},
     "output_type": "execute_result"
    }
   ],
   "source": [
    "idx = np.arange(26, dtype=np.uint8)\n",
    "np.random.shuffle(idx)\n",
    "idx"
   ]
  },
  {
   "cell_type": "code",
   "execution_count": 28,
   "metadata": {},
   "outputs": [],
   "source": [
    "# mixing the relations order\n",
    "K = K[:,:,idx]"
   ]
  },
  {
   "cell_type": "code",
   "execution_count": 29,
   "metadata": {
    "scrolled": true
   },
   "outputs": [
    {
     "name": "stdout",
     "output_type": "stream",
     "text": [
      "K1:  (104, 104, 13)\n",
      "K2:  (104, 104, 13)\n"
     ]
    }
   ],
   "source": [
    "# split datas by half each\n",
    "K1 = K[:,:,:13]\n",
    "K2 = K[:,:,13:]\n",
    "\n",
    "print('K1: ', K1.shape)\n",
    "print('K2: ', K2.shape)"
   ]
  },
  {
   "cell_type": "code",
   "execution_count": null,
   "metadata": {},
   "outputs": [],
   "source": []
  },
  {
   "cell_type": "code",
   "execution_count": 16,
   "metadata": {},
   "outputs": [],
   "source": [
    "idx1 = np.arange(104, dtype=np.uint8)\n",
    "idx2 = np.arange(104, dtype=np.uint8)\n",
    "np.random.shuffle(idx1)\n",
    "np.random.shuffle(idx2)\n",
    "\n",
    "K1 = K1[idx1]\n",
    "K1 = K1[:,idx2,:]"
   ]
  },
  {
   "cell_type": "code",
   "execution_count": 17,
   "metadata": {},
   "outputs": [],
   "source": [
    "idx1 = np.arange(104, dtype=np.uint8)\n",
    "idx2 = np.arange(104, dtype=np.uint8)\n",
    "np.random.shuffle(idx1)\n",
    "np.random.shuffle(idx2)\n",
    "\n",
    "K2 = K2[idx1]\n",
    "K2 = K2[:,idx2,:]"
   ]
  },
  {
   "cell_type": "code",
   "execution_count": 135,
   "metadata": {},
   "outputs": [
    {
     "data": {
      "text/plain": [
       "(104, 104, 13)"
      ]
     },
     "execution_count": 135,
     "metadata": {},
     "output_type": "execute_result"
    }
   ],
   "source": [
    "K2.shape"
   ]
  },
  {
   "cell_type": "markdown",
   "metadata": {},
   "source": [
    "## Unoverlapped entities"
   ]
  },
  {
   "cell_type": "code",
   "execution_count": 9,
   "metadata": {},
   "outputs": [
    {
     "data": {
      "text/plain": [
       "(104, 104, 26)"
      ]
     },
     "execution_count": 9,
     "metadata": {},
     "output_type": "execute_result"
    }
   ],
   "source": [
    "# load data\n",
    "\n",
    "mat = loadmat('data/alyawarradata.mat')\n",
    "K = array(mat['Rs'], np.float32)\n",
    "K.shape"
   ]
  },
  {
   "cell_type": "code",
   "execution_count": 10,
   "metadata": {},
   "outputs": [
    {
     "name": "stdout",
     "output_type": "stream",
     "text": [
      "K1 :  (52, 52, 26)\n",
      "K2 :  (52, 52, 26)\n"
     ]
    }
   ],
   "source": [
    "K1 = K[:52, :52, :]\n",
    "K2 = K[52:, 52:, :]\n",
    "print('K1 : ', K1.shape)\n",
    "print('K2 : ', K2.shape)"
   ]
  },
  {
   "cell_type": "code",
   "execution_count": 5,
   "metadata": {},
   "outputs": [],
   "source": [
    "#import scipy\n",
    "\n",
    "#scipy.io.savemat('data/K1_unoverlapped.mat', {'data': K1})\n",
    "#scipy.io.savemat('data/K2_unoverlapped.mat', {'data': K2})"
   ]
  },
  {
   "cell_type": "code",
   "execution_count": 15,
   "metadata": {},
   "outputs": [],
   "source": [
    "from test_kinships import *"
   ]
  },
  {
   "cell_type": "markdown",
   "metadata": {},
   "source": [
    "### Test AUCs of Rescal on K1, K2 are around 0.7\n",
    "### on K are around 0.95"
   ]
  },
  {
   "cell_type": "code",
   "execution_count": null,
   "metadata": {},
   "outputs": [],
   "source": []
  },
  {
   "cell_type": "code",
   "execution_count": 18,
   "metadata": {},
   "outputs": [],
   "source": [
    "import scipy\n",
    "\n",
    "#scipy.io.savemat('data/K1_new.mat', {'data': K1})\n",
    "#scipy.io.savemat('data/K2_new.mat', {'data': K2})"
   ]
  },
  {
   "cell_type": "code",
   "execution_count": 19,
   "metadata": {},
   "outputs": [],
   "source": [
    "#scipy.io.savemat('data/K_new.mat', {'data': K})"
   ]
  },
  {
   "cell_type": "code",
   "execution_count": 14,
   "metadata": {},
   "outputs": [],
   "source": [
    "# predict unobserved, 0s values\n",
    "\n",
    "def predict_rescal_als_wass(T1, T2, alpha=5, rank=100):\n",
    "    A1, A2, R1, R2, OT_plan = als_wass(\n",
    "        T1, T2, rank=rank, alpha=alpha, conv=1e-4,)\n",
    "    \n",
    "    n1 = A1.shape[0]\n",
    "    P1 = zeros((n1, n1, len(R1)))\n",
    "    for k in range(len(R1)):\n",
    "        P1[:, :, k] = dot(A1, dot(R1[k], A1.T))\n",
    "    \n",
    "    n2 = A2.shape[0]\n",
    "    P2 = zeros((n2, n2, len(R2)))\n",
    "    for k in range(len(R2)):\n",
    "        P2[:, :, k] = dot(A2, dot(R2[k], A2.T))\n",
    "        \n",
    "    return P1, P2, OT_plan\n",
    "\n",
    "\n",
    "def normalize_predictions_wass(P1, P2, e1, e2, k1, k2):\n",
    "    \n",
    "    for a in range(e1):\n",
    "        for b in range(e1):\n",
    "            nrm = norm(P1[a, b, :k1])\n",
    "            if nrm != 0:\n",
    "                # round values for faster computation of AUC-PR\n",
    "                P1[a, b, :k1] = np.round_(P1[a, b, :k1] / nrm, decimals=3)\n",
    "                \n",
    "    for a in range(e2):\n",
    "        for b in range(e2):\n",
    "            nrm = norm(P2[a, b, :k2])\n",
    "            if nrm != 0:\n",
    "                # round values for faster computation of AUC-PR\n",
    "                P2[a, b, :k2] = np.round_(P2[a, b, :k2] / nrm, decimals=3)\n",
    "                \n",
    "    return P1, P2"
   ]
  },
  {
   "cell_type": "code",
   "execution_count": 15,
   "metadata": {},
   "outputs": [],
   "source": [
    "from sklearn.metrics import precision_recall_curve, auc\n",
    "\n",
    "# inner fold\n",
    "\n",
    "def innerfold(T1, T2, mask_idx1, mask_idx2, target_idx1, target_idx2, e1, e2, k1, k2, sz1, sz2, alpha=5, rank=100):\n",
    "    Tc1 = [Ti.copy() for Ti in T1]\n",
    "    mask_idx1 = np.unravel_index(mask_idx1, (e1, e1, k1))\n",
    "    target_idx1 = np.unravel_index(target_idx1, (e1, e1, k1))\n",
    "    \n",
    "    Tc2 = [Ti.copy() for Ti in T2]\n",
    "    mask_idx2 = np.unravel_index(mask_idx2, (e2, e2, k2))\n",
    "    target_idx2 = np.unravel_index(target_idx2, (e2, e2, k2))\n",
    "    \n",
    "    # set values to be predicted to zero\n",
    "    for i in range(len(mask_idx1[0])):\n",
    "        Tc1[mask_idx1[2][i]][mask_idx1[0][i], mask_idx1[1][i]] = 0\n",
    "    \n",
    "    for i in range(len(mask_idx2[0])):\n",
    "        Tc2[mask_idx2[2][i]][mask_idx2[0][i], mask_idx2[1][i]] = 0\n",
    "        \n",
    "    # predict unknown values\n",
    "    P1, P2, OT_plan = predict_rescal_als_wass(Tc1, Tc2, alpha=alpha, rank=rank)\n",
    "    P1, P2 = normalize_predictions_wass(P1, P2, e1, e2, k1, k2)\n",
    "    \n",
    "    # compute AUC\n",
    "    prec1, recall1, _ = precision_recall_curve(GROUNDTRUTH1[target_idx1], P1[target_idx1])\n",
    "    prec2, recall2, _ = precision_recall_curve(GROUNDTRUTH2[target_idx2], P2[target_idx2])\n",
    "    \n",
    "    return auc(recall1, prec1), auc(recall2, prec2), OT_plan\n",
    "    "
   ]
  },
  {
   "cell_type": "code",
   "execution_count": 32,
   "metadata": {},
   "outputs": [],
   "source": [
    "e1, k1 = K1.shape[0], K1.shape[2]\n",
    "e2, k2 = K2.shape[0], K2.shape[2]\n",
    "\n",
    "SZ1 = e1 * e1 * k1\n",
    "SZ2 = e2 * e2 * k2"
   ]
  },
  {
   "cell_type": "code",
   "execution_count": 33,
   "metadata": {},
   "outputs": [],
   "source": [
    "GROUNDTRUTH1 = K1.copy()\n",
    "GROUNDTRUTH2 = K2.copy()"
   ]
  },
  {
   "cell_type": "code",
   "execution_count": 34,
   "metadata": {},
   "outputs": [],
   "source": [
    "from scipy.sparse import lil_matrix\n",
    "\n",
    "T1 = [lil_matrix(K1[:,:,i]) for i in range(k1)]\n",
    "T2 = [lil_matrix(K2[:,:,i]) for i in range(k2)]\n"
   ]
  },
  {
   "cell_type": "code",
   "execution_count": 35,
   "metadata": {},
   "outputs": [],
   "source": [
    "FOLDS = 10\n",
    "\n",
    "IDX1 = list(range(SZ1))\n",
    "IDX2 = list(range(SZ2))\n",
    "\n",
    "np.random.shuffle(IDX1)\n",
    "np.random.shuffle(IDX2)"
   ]
  },
  {
   "cell_type": "markdown",
   "metadata": {},
   "source": [
    "## alpha = 5"
   ]
  },
  {
   "cell_type": "code",
   "execution_count": 36,
   "metadata": {},
   "outputs": [
    {
     "name": "stdout",
     "output_type": "stream",
     "text": [
      "AUC-PR Test 1: Mean / Std : 0.724157 / 0.018744\n",
      "AUC-PR Test 2: Mean / Std : 0.736189 / 0.013731\n"
     ]
    }
   ],
   "source": [
    "alpha = 5\n",
    "rank = 50\n",
    "\n",
    "fsz1 = int(SZ1/FOLDS)\n",
    "fsz2 = int(SZ2/FOLDS)\n",
    "\n",
    "offset1, offset2 = 0, 0 \n",
    "\n",
    "AUC_test1 = np.zeros(FOLDS)\n",
    "AUC_test2 = np.zeros(FOLDS)\n",
    "\n",
    "for f in range(FOLDS):\n",
    "    idx_test1 = IDX1[offset1: offset1 + fsz1]\n",
    "    idx_test2 = IDX2[offset2: offset2 + fsz2]\n",
    "    \n",
    "    AUC_test1[f], AUC_test2[f], OT_plan = innerfold(T1, T2, idx_test1, idx_test2, idx_test1, idx_test2, e1, e2, k1, k2, SZ1, SZ2, alpha=alpha, rank=rank)\n",
    "    \n",
    "    offset1 += fsz1\n",
    "    offset2 += fsz2\n",
    "    \n",
    "print('AUC-PR Test 1: Mean / Std : %f / %f' %(AUC_test1.mean(), AUC_test1.std()))\n",
    "print('AUC-PR Test 2: Mean / Std : %f / %f' %(AUC_test2.mean(), AUC_test2.std()))"
   ]
  },
  {
   "cell_type": "code",
   "execution_count": null,
   "metadata": {},
   "outputs": [],
   "source": [
    "# OT_plan"
   ]
  },
  {
   "cell_type": "markdown",
   "metadata": {},
   "source": [
    "## alpha = 10"
   ]
  },
  {
   "cell_type": "code",
   "execution_count": 48,
   "metadata": {},
   "outputs": [
    {
     "name": "stdout",
     "output_type": "stream",
     "text": [
      "AUC-PR Test 1: Mean / Std : 0.931720 / 0.017159\n",
      "AUC-PR Test 2: Mean / Std : 0.938869 / 0.012039\n"
     ]
    }
   ],
   "source": [
    "alpha = 10\n",
    "rank = 50\n",
    "\n",
    "fsz1 = int(SZ1/FOLDS)\n",
    "fsz2 = int(SZ2/FOLDS)\n",
    "\n",
    "offset1, offset2 = 0, 0 \n",
    "\n",
    "AUC_test1 = np.zeros(FOLDS)\n",
    "AUC_test2 = np.zeros(FOLDS)\n",
    "\n",
    "for f in range(FOLDS):\n",
    "    idx_test1 = IDX1[offset1: offset1 + fsz1]\n",
    "    idx_test2 = IDX2[offset2: offset2 + fsz2]\n",
    "    \n",
    "    AUC_test1[f], AUC_test2[f] = innerfold(T1, T2, idx_test1, idx_test2, idx_test1, idx_test2, e1, e2, k1, k2, SZ1, SZ2, alpha=alpha, rank=rank)\n",
    "    \n",
    "    offset1 += fsz1\n",
    "    offset2 += fsz2\n",
    "    \n",
    "print('AUC-PR Test 1: Mean / Std : %f / %f' %(AUC_test1.mean(), AUC_test1.std()))\n",
    "print('AUC-PR Test 2: Mean / Std : %f / %f' %(AUC_test2.mean(), AUC_test2.std()))"
   ]
  },
  {
   "cell_type": "code",
   "execution_count": 148,
   "metadata": {},
   "outputs": [
    {
     "data": {
      "text/plain": [
       "array([0.83747453, 0.79931581, 0.77680545, 0.82942575, 0.78816674,\n",
       "       0.80311441, 0.82972819, 0.83339166, 0.81224867, 0.80911601])"
      ]
     },
     "execution_count": 148,
     "metadata": {},
     "output_type": "execute_result"
    }
   ],
   "source": [
    "AUC_test1"
   ]
  },
  {
   "cell_type": "code",
   "execution_count": 149,
   "metadata": {
    "scrolled": true
   },
   "outputs": [
    {
     "data": {
      "text/plain": [
       "array([0.82614571, 0.78362041, 0.78658881, 0.80210922, 0.8036278 ,\n",
       "       0.77772194, 0.80906581, 0.78199059, 0.76697444, 0.80543282])"
      ]
     },
     "execution_count": 149,
     "metadata": {},
     "output_type": "execute_result"
    }
   ],
   "source": [
    "AUC_test2"
   ]
  },
  {
   "cell_type": "markdown",
   "metadata": {},
   "source": [
    "## alpha = 15"
   ]
  },
  {
   "cell_type": "code",
   "execution_count": 49,
   "metadata": {},
   "outputs": [
    {
     "name": "stdout",
     "output_type": "stream",
     "text": [
      "AUC-PR Test 1: Mean / Std : 0.929091 / 0.019612\n",
      "AUC-PR Test 2: Mean / Std : 0.933530 / 0.010447\n"
     ]
    }
   ],
   "source": [
    "alpha = 15\n",
    "rank = 50\n",
    "\n",
    "fsz1 = int(SZ1/FOLDS)\n",
    "fsz2 = int(SZ2/FOLDS)\n",
    "\n",
    "offset1, offset2 = 0, 0 \n",
    "\n",
    "AUC_test1 = np.zeros(FOLDS)\n",
    "AUC_test2 = np.zeros(FOLDS)\n",
    "\n",
    "for f in range(FOLDS):\n",
    "    idx_test1 = IDX1[offset1: offset1 + fsz1]\n",
    "    idx_test2 = IDX2[offset2: offset2 + fsz2]\n",
    "    \n",
    "    AUC_test1[f], AUC_test2[f] = innerfold(T1, T2, idx_test1, idx_test2, idx_test1, idx_test2, e1, e2, k1, k2, SZ1, SZ2, alpha=alpha, rank=rank)\n",
    "    \n",
    "    offset1 += fsz1\n",
    "    offset2 += fsz2\n",
    "    \n",
    "print('AUC-PR Test 1: Mean / Std : %f / %f' %(AUC_test1.mean(), AUC_test1.std()))\n",
    "print('AUC-PR Test 2: Mean / Std : %f / %f' %(AUC_test2.mean(), AUC_test2.std()))"
   ]
  },
  {
   "cell_type": "markdown",
   "metadata": {},
   "source": [
    "## alpha = 20"
   ]
  },
  {
   "cell_type": "code",
   "execution_count": 50,
   "metadata": {},
   "outputs": [
    {
     "name": "stdout",
     "output_type": "stream",
     "text": [
      "AUC-PR Test 1: Mean / Std : 0.877385 / 0.017913\n",
      "AUC-PR Test 2: Mean / Std : 0.898496 / 0.019240\n"
     ]
    }
   ],
   "source": [
    "alpha = 20\n",
    "rank = 50\n",
    "\n",
    "fsz1 = int(SZ1/FOLDS)\n",
    "fsz2 = int(SZ2/FOLDS)\n",
    "\n",
    "offset1, offset2 = 0, 0 \n",
    "\n",
    "AUC_test1 = np.zeros(FOLDS)\n",
    "AUC_test2 = np.zeros(FOLDS)\n",
    "\n",
    "for f in range(FOLDS):\n",
    "    idx_test1 = IDX1[offset1: offset1 + fsz1]\n",
    "    idx_test2 = IDX2[offset2: offset2 + fsz2]\n",
    "    \n",
    "    AUC_test1[f], AUC_test2[f] = innerfold(T1, T2, idx_test1, idx_test2, idx_test1, idx_test2, e1, e2, k1, k2, SZ1, SZ2, alpha=alpha, rank=rank)\n",
    "    \n",
    "    offset1 += fsz1\n",
    "    offset2 += fsz2\n",
    "    \n",
    "print('AUC-PR Test 1: Mean / Std : %f / %f' %(AUC_test1.mean(), AUC_test1.std()))\n",
    "print('AUC-PR Test 2: Mean / Std : %f / %f' %(AUC_test2.mean(), AUC_test2.std()))"
   ]
  },
  {
   "cell_type": "code",
   "execution_count": null,
   "metadata": {},
   "outputs": [],
   "source": [
    "# OT_plan\n"
   ]
  },
  {
   "cell_type": "markdown",
   "metadata": {},
   "source": [
    "## alpha = 25"
   ]
  },
  {
   "cell_type": "code",
   "execution_count": 39,
   "metadata": {},
   "outputs": [
    {
     "name": "stdout",
     "output_type": "stream",
     "text": [
      "AUC-PR Test 1: Mean / Std : 0.875077 / 0.013944\n",
      "AUC-PR Test 2: Mean / Std : 0.854015 / 0.013407\n"
     ]
    }
   ],
   "source": [
    "alpha = 25\n",
    "rank = 50\n",
    "\n",
    "fsz1 = int(SZ1/FOLDS)\n",
    "fsz2 = int(SZ2/FOLDS)\n",
    "\n",
    "offset1, offset2 = 0, 0 \n",
    "\n",
    "AUC_test1 = np.zeros(FOLDS)\n",
    "AUC_test2 = np.zeros(FOLDS)\n",
    "\n",
    "for f in range(FOLDS):\n",
    "    idx_test1 = IDX1[offset1: offset1 + fsz1]\n",
    "    idx_test2 = IDX2[offset2: offset2 + fsz2]\n",
    "    \n",
    "    AUC_test1[f], AUC_test2[f], OT_plan = innerfold(T1, T2, idx_test1, idx_test2, idx_test1, idx_test2, e1, e2, k1, k2, SZ1, SZ2, alpha=alpha, rank=rank)\n",
    "    \n",
    "    offset1 += fsz1\n",
    "    offset2 += fsz2\n",
    "    \n",
    "print('AUC-PR Test 1: Mean / Std : %f / %f' %(AUC_test1.mean(), AUC_test1.std()))\n",
    "print('AUC-PR Test 2: Mean / Std : %f / %f' %(AUC_test2.mean(), AUC_test2.std()))"
   ]
  },
  {
   "cell_type": "markdown",
   "metadata": {},
   "source": [
    "## alpha = 30"
   ]
  },
  {
   "cell_type": "code",
   "execution_count": 53,
   "metadata": {},
   "outputs": [
    {
     "name": "stderr",
     "output_type": "stream",
     "text": [
      "/home/phucdoitoan/anaconda3/envs/fuku/lib/python3.7/site-packages/ipykernel_launcher.py:7: RuntimeWarning: overflow encountered in square\n",
      "  import sys\n",
      "/home/phucdoitoan/anaconda3/envs/fuku/lib/python3.7/site-packages/ipykernel_launcher.py:7: RuntimeWarning: overflow encountered in square\n",
      "  import sys\n",
      "/home/phucdoitoan/anaconda3/envs/fuku/lib/python3.7/site-packages/ipykernel_launcher.py:7: RuntimeWarning: overflow encountered in square\n",
      "  import sys\n",
      "/home/phucdoitoan/anaconda3/envs/fuku/lib/python3.7/site-packages/ipykernel_launcher.py:7: RuntimeWarning: overflow encountered in square\n",
      "  import sys\n",
      "/home/phucdoitoan/anaconda3/envs/fuku/lib/python3.7/site-packages/ipykernel_launcher.py:7: RuntimeWarning: overflow encountered in square\n",
      "  import sys\n",
      "/home/phucdoitoan/anaconda3/envs/fuku/lib/python3.7/site-packages/ipykernel_launcher.py:7: RuntimeWarning: overflow encountered in square\n",
      "  import sys\n",
      "/home/phucdoitoan/anaconda3/envs/fuku/lib/python3.7/site-packages/ipykernel_launcher.py:7: RuntimeWarning: overflow encountered in square\n",
      "  import sys\n",
      "/home/phucdoitoan/anaconda3/envs/fuku/lib/python3.7/site-packages/ipykernel_launcher.py:7: RuntimeWarning: overflow encountered in square\n",
      "  import sys\n",
      "/home/phucdoitoan/anaconda3/envs/fuku/lib/python3.7/site-packages/ipykernel_launcher.py:7: RuntimeWarning: overflow encountered in square\n",
      "  import sys\n",
      "/home/phucdoitoan/anaconda3/envs/fuku/lib/python3.7/site-packages/ipykernel_launcher.py:7: RuntimeWarning: overflow encountered in square\n",
      "  import sys\n",
      "/home/phucdoitoan/anaconda3/envs/fuku/lib/python3.7/site-packages/ipykernel_launcher.py:7: RuntimeWarning: overflow encountered in square\n",
      "  import sys\n",
      "/home/phucdoitoan/anaconda3/envs/fuku/lib/python3.7/site-packages/ipykernel_launcher.py:7: RuntimeWarning: overflow encountered in square\n",
      "  import sys\n",
      "/home/phucdoitoan/anaconda3/envs/fuku/lib/python3.7/site-packages/ipykernel_launcher.py:7: RuntimeWarning: overflow encountered in square\n",
      "  import sys\n",
      "/home/phucdoitoan/anaconda3/envs/fuku/lib/python3.7/site-packages/ipykernel_launcher.py:7: RuntimeWarning: overflow encountered in square\n",
      "  import sys\n",
      "/home/phucdoitoan/anaconda3/envs/fuku/lib/python3.7/site-packages/ipykernel_launcher.py:7: RuntimeWarning: overflow encountered in square\n",
      "  import sys\n",
      "/home/phucdoitoan/anaconda3/envs/fuku/lib/python3.7/site-packages/ipykernel_launcher.py:7: RuntimeWarning: overflow encountered in square\n",
      "  import sys\n",
      "/home/phucdoitoan/anaconda3/envs/fuku/lib/python3.7/site-packages/ipykernel_launcher.py:7: RuntimeWarning: overflow encountered in square\n",
      "  import sys\n",
      "/home/phucdoitoan/anaconda3/envs/fuku/lib/python3.7/site-packages/ipykernel_launcher.py:7: RuntimeWarning: overflow encountered in square\n",
      "  import sys\n",
      "/home/phucdoitoan/anaconda3/envs/fuku/lib/python3.7/site-packages/ipykernel_launcher.py:7: RuntimeWarning: overflow encountered in square\n",
      "  import sys\n",
      "/home/phucdoitoan/anaconda3/envs/fuku/lib/python3.7/site-packages/ipykernel_launcher.py:7: RuntimeWarning: overflow encountered in square\n",
      "  import sys\n",
      "/home/phucdoitoan/anaconda3/envs/fuku/lib/python3.7/site-packages/ipykernel_launcher.py:7: RuntimeWarning: overflow encountered in square\n",
      "  import sys\n",
      "/home/phucdoitoan/anaconda3/envs/fuku/lib/python3.7/site-packages/ipykernel_launcher.py:7: RuntimeWarning: overflow encountered in square\n",
      "  import sys\n",
      "/home/phucdoitoan/anaconda3/envs/fuku/lib/python3.7/site-packages/ipykernel_launcher.py:7: RuntimeWarning: overflow encountered in square\n",
      "  import sys\n",
      "/home/phucdoitoan/anaconda3/envs/fuku/lib/python3.7/site-packages/ipykernel_launcher.py:7: RuntimeWarning: overflow encountered in square\n",
      "  import sys\n",
      "/home/phucdoitoan/anaconda3/envs/fuku/lib/python3.7/site-packages/ipykernel_launcher.py:7: RuntimeWarning: overflow encountered in square\n",
      "  import sys\n",
      "/home/phucdoitoan/anaconda3/envs/fuku/lib/python3.7/site-packages/ipykernel_launcher.py:7: RuntimeWarning: overflow encountered in square\n",
      "  import sys\n",
      "/home/phucdoitoan/anaconda3/envs/fuku/lib/python3.7/site-packages/ipykernel_launcher.py:7: RuntimeWarning: overflow encountered in square\n",
      "  import sys\n",
      "/home/phucdoitoan/anaconda3/envs/fuku/lib/python3.7/site-packages/ipykernel_launcher.py:7: RuntimeWarning: overflow encountered in square\n",
      "  import sys\n",
      "/home/phucdoitoan/anaconda3/envs/fuku/lib/python3.7/site-packages/ipykernel_launcher.py:7: RuntimeWarning: overflow encountered in square\n",
      "  import sys\n",
      "/home/phucdoitoan/anaconda3/envs/fuku/lib/python3.7/site-packages/ipykernel_launcher.py:7: RuntimeWarning: overflow encountered in square\n",
      "  import sys\n",
      "/home/phucdoitoan/anaconda3/envs/fuku/lib/python3.7/site-packages/ipykernel_launcher.py:7: RuntimeWarning: overflow encountered in square\n",
      "  import sys\n",
      "/home/phucdoitoan/anaconda3/envs/fuku/lib/python3.7/site-packages/ipykernel_launcher.py:7: RuntimeWarning: overflow encountered in square\n",
      "  import sys\n",
      "/home/phucdoitoan/anaconda3/envs/fuku/lib/python3.7/site-packages/ipykernel_launcher.py:7: RuntimeWarning: overflow encountered in square\n",
      "  import sys\n",
      "/home/phucdoitoan/anaconda3/envs/fuku/lib/python3.7/site-packages/ipykernel_launcher.py:7: RuntimeWarning: overflow encountered in square\n",
      "  import sys\n",
      "/home/phucdoitoan/anaconda3/envs/fuku/lib/python3.7/site-packages/ipykernel_launcher.py:7: RuntimeWarning: overflow encountered in square\n",
      "  import sys\n",
      "/home/phucdoitoan/anaconda3/envs/fuku/lib/python3.7/site-packages/ipykernel_launcher.py:7: RuntimeWarning: overflow encountered in square\n",
      "  import sys\n",
      "/home/phucdoitoan/anaconda3/envs/fuku/lib/python3.7/site-packages/ipykernel_launcher.py:7: RuntimeWarning: overflow encountered in square\n",
      "  import sys\n",
      "/home/phucdoitoan/anaconda3/envs/fuku/lib/python3.7/site-packages/ipykernel_launcher.py:7: RuntimeWarning: overflow encountered in square\n",
      "  import sys\n",
      "/home/phucdoitoan/anaconda3/envs/fuku/lib/python3.7/site-packages/ipykernel_launcher.py:7: RuntimeWarning: overflow encountered in square\n",
      "  import sys\n",
      "/home/phucdoitoan/anaconda3/envs/fuku/lib/python3.7/site-packages/ipykernel_launcher.py:7: RuntimeWarning: overflow encountered in square\n",
      "  import sys\n",
      "/home/phucdoitoan/anaconda3/envs/fuku/lib/python3.7/site-packages/ipykernel_launcher.py:7: RuntimeWarning: overflow encountered in square\n",
      "  import sys\n",
      "/home/phucdoitoan/anaconda3/envs/fuku/lib/python3.7/site-packages/ipykernel_launcher.py:7: RuntimeWarning: overflow encountered in square\n",
      "  import sys\n",
      "/home/phucdoitoan/anaconda3/envs/fuku/lib/python3.7/site-packages/ipykernel_launcher.py:7: RuntimeWarning: overflow encountered in square\n",
      "  import sys\n",
      "/home/phucdoitoan/anaconda3/envs/fuku/lib/python3.7/site-packages/ipykernel_launcher.py:7: RuntimeWarning: overflow encountered in square\n",
      "  import sys\n",
      "/home/phucdoitoan/anaconda3/envs/fuku/lib/python3.7/site-packages/ipykernel_launcher.py:7: RuntimeWarning: overflow encountered in square\n",
      "  import sys\n",
      "/home/phucdoitoan/anaconda3/envs/fuku/lib/python3.7/site-packages/ipykernel_launcher.py:7: RuntimeWarning: overflow encountered in square\n",
      "  import sys\n",
      "/home/phucdoitoan/anaconda3/envs/fuku/lib/python3.7/site-packages/ipykernel_launcher.py:7: RuntimeWarning: overflow encountered in square\n",
      "  import sys\n",
      "/home/phucdoitoan/anaconda3/envs/fuku/lib/python3.7/site-packages/ipykernel_launcher.py:7: RuntimeWarning: overflow encountered in square\n",
      "  import sys\n",
      "/home/phucdoitoan/anaconda3/envs/fuku/lib/python3.7/site-packages/ipykernel_launcher.py:7: RuntimeWarning: overflow encountered in square\n",
      "  import sys\n",
      "/home/phucdoitoan/anaconda3/envs/fuku/lib/python3.7/site-packages/ipykernel_launcher.py:7: RuntimeWarning: overflow encountered in square\n",
      "  import sys\n",
      "/home/phucdoitoan/anaconda3/envs/fuku/lib/python3.7/site-packages/ipykernel_launcher.py:7: RuntimeWarning: overflow encountered in square\n",
      "  import sys\n",
      "/home/phucdoitoan/anaconda3/envs/fuku/lib/python3.7/site-packages/ipykernel_launcher.py:7: RuntimeWarning: overflow encountered in square\n",
      "  import sys\n",
      "/home/phucdoitoan/anaconda3/envs/fuku/lib/python3.7/site-packages/ipykernel_launcher.py:7: RuntimeWarning: overflow encountered in square\n",
      "  import sys\n",
      "/home/phucdoitoan/anaconda3/envs/fuku/lib/python3.7/site-packages/ipykernel_launcher.py:7: RuntimeWarning: overflow encountered in square\n",
      "  import sys\n",
      "/home/phucdoitoan/anaconda3/envs/fuku/lib/python3.7/site-packages/ipykernel_launcher.py:7: RuntimeWarning: overflow encountered in square\n",
      "  import sys\n"
     ]
    },
    {
     "name": "stderr",
     "output_type": "stream",
     "text": [
      "/home/phucdoitoan/anaconda3/envs/fuku/lib/python3.7/site-packages/ipykernel_launcher.py:7: RuntimeWarning: overflow encountered in square\n",
      "  import sys\n",
      "/home/phucdoitoan/anaconda3/envs/fuku/lib/python3.7/site-packages/ipykernel_launcher.py:7: RuntimeWarning: overflow encountered in square\n",
      "  import sys\n",
      "/home/phucdoitoan/anaconda3/envs/fuku/lib/python3.7/site-packages/ipykernel_launcher.py:7: RuntimeWarning: overflow encountered in square\n",
      "  import sys\n",
      "/home/phucdoitoan/anaconda3/envs/fuku/lib/python3.7/site-packages/ipykernel_launcher.py:7: RuntimeWarning: overflow encountered in square\n",
      "  import sys\n",
      "/home/phucdoitoan/anaconda3/envs/fuku/lib/python3.7/site-packages/ipykernel_launcher.py:7: RuntimeWarning: overflow encountered in square\n",
      "  import sys\n",
      "/home/phucdoitoan/anaconda3/envs/fuku/lib/python3.7/site-packages/ipykernel_launcher.py:7: RuntimeWarning: overflow encountered in square\n",
      "  import sys\n",
      "/home/phucdoitoan/anaconda3/envs/fuku/lib/python3.7/site-packages/ipykernel_launcher.py:7: RuntimeWarning: overflow encountered in square\n",
      "  import sys\n"
     ]
    },
    {
     "name": "stdout",
     "output_type": "stream",
     "text": [
      "AUC-PR Test 1: Mean / Std : 0.546928 / 0.047107\n",
      "AUC-PR Test 2: Mean / Std : 0.481643 / 0.068128\n"
     ]
    },
    {
     "name": "stderr",
     "output_type": "stream",
     "text": [
      "/home/phucdoitoan/anaconda3/envs/fuku/lib/python3.7/site-packages/ipykernel_launcher.py:7: RuntimeWarning: overflow encountered in square\n",
      "  import sys\n",
      "/home/phucdoitoan/anaconda3/envs/fuku/lib/python3.7/site-packages/ipykernel_launcher.py:7: RuntimeWarning: overflow encountered in square\n",
      "  import sys\n"
     ]
    }
   ],
   "source": [
    "alpha = 30\n",
    "rank = 50\n",
    "\n",
    "fsz1 = int(SZ1/FOLDS)\n",
    "fsz2 = int(SZ2/FOLDS)\n",
    "\n",
    "offset1, offset2 = 0, 0 \n",
    "\n",
    "AUC_test1 = np.zeros(FOLDS)\n",
    "AUC_test2 = np.zeros(FOLDS)\n",
    "\n",
    "for f in range(FOLDS):\n",
    "    idx_test1 = IDX1[offset1: offset1 + fsz1]\n",
    "    idx_test2 = IDX2[offset2: offset2 + fsz2]\n",
    "    \n",
    "    AUC_test1[f], AUC_test2[f] = innerfold(T1, T2, idx_test1, idx_test2, idx_test1, idx_test2, e1, e2, k1, k2, SZ1, SZ2, alpha=alpha, rank=rank)\n",
    "    \n",
    "    offset1 += fsz1\n",
    "    offset2 += fsz2\n",
    "    \n",
    "print('AUC-PR Test 1: Mean / Std : %f / %f' %(AUC_test1.mean(), AUC_test1.std()))\n",
    "print('AUC-PR Test 2: Mean / Std : %f / %f' %(AUC_test2.mean(), AUC_test2.std()))"
   ]
  },
  {
   "cell_type": "markdown",
   "metadata": {},
   "source": [
    "## alpha = 35"
   ]
  },
  {
   "cell_type": "code",
   "execution_count": 154,
   "metadata": {},
   "outputs": [
    {
     "name": "stdout",
     "output_type": "stream",
     "text": [
      "AUC-PR Test 1: Mean / Std : 0.782040 / 0.032845\n",
      "AUC-PR Test 2: Mean / Std : 0.821308 / 0.040651\n"
     ]
    }
   ],
   "source": [
    "alpha = 35\n",
    "\n",
    "\n",
    "fsz1 = int(SZ1/FOLDS)\n",
    "fsz2 = int(SZ2/FOLDS)\n",
    "\n",
    "offset1, offset2 = 0, 0 \n",
    "\n",
    "AUC_test1 = np.zeros(FOLDS)\n",
    "AUC_test2 = np.zeros(FOLDS)\n",
    "\n",
    "for f in range(FOLDS):\n",
    "    idx_test1 = IDX1[offset1: offset1 + fsz1]\n",
    "    idx_test2 = IDX2[offset2: offset2 + fsz2]\n",
    "    \n",
    "    AUC_test1[f], AUC_test2[f] = innerfold(T1, T2, idx_test1, idx_test2, idx_test1, idx_test2, e1, e2, k1, k2, SZ1, SZ2, alpha=alpha)\n",
    "    \n",
    "    offset1 += fsz1\n",
    "    offset2 += fsz2\n",
    "    \n",
    "print('AUC-PR Test 1: Mean / Std : %f / %f' %(AUC_test1.mean(), AUC_test1.std()))\n",
    "print('AUC-PR Test 2: Mean / Std : %f / %f' %(AUC_test2.mean(), AUC_test2.std()))"
   ]
  },
  {
   "cell_type": "markdown",
   "metadata": {},
   "source": [
    "### alpha = 0"
   ]
  },
  {
   "cell_type": "code",
   "execution_count": 38,
   "metadata": {},
   "outputs": [
    {
     "name": "stdout",
     "output_type": "stream",
     "text": [
      "AUC-PR Test 1: Mean / Std : 0.666179 / 0.017329\n",
      "AUC-PR Test 2: Mean / Std : 0.693334 / 0.015872\n"
     ]
    }
   ],
   "source": [
    "alpha = 0\n",
    "rank = 50\n",
    "\n",
    "fsz1 = int(SZ1/FOLDS)\n",
    "fsz2 = int(SZ2/FOLDS)\n",
    "\n",
    "offset1, offset2 = 0, 0 \n",
    "\n",
    "AUC_test1 = np.zeros(FOLDS)\n",
    "AUC_test2 = np.zeros(FOLDS)\n",
    "\n",
    "for f in range(FOLDS):\n",
    "    idx_test1 = IDX1[offset1: offset1 + fsz1]\n",
    "    idx_test2 = IDX2[offset2: offset2 + fsz2]\n",
    "    \n",
    "    AUC_test1[f], AUC_test2[f], _ = innerfold(T1, T2, idx_test1, idx_test2, idx_test1, idx_test2, e1, e2, k1, k2, SZ1, SZ2, alpha=alpha, rank=rank)\n",
    "    \n",
    "    offset1 += fsz1\n",
    "    offset2 += fsz2\n",
    "    \n",
    "print('AUC-PR Test 1: Mean / Std : %f / %f' %(AUC_test1.mean(), AUC_test1.std()))\n",
    "print('AUC-PR Test 2: Mean / Std : %f / %f' %(AUC_test2.mean(), AUC_test2.std()))"
   ]
  },
  {
   "cell_type": "code",
   "execution_count": 113,
   "metadata": {},
   "outputs": [
    {
     "data": {
      "text/plain": [
       "array([0.6929301 , 0.69348072, 0.69758942, 0.70267651, 0.72331901,\n",
       "       0.66960693, 0.70369296, 0.681076  , 0.71840147, 0.70791614])"
      ]
     },
     "execution_count": 113,
     "metadata": {},
     "output_type": "execute_result"
    }
   ],
   "source": [
    "AUC_test1"
   ]
  },
  {
   "cell_type": "code",
   "execution_count": 114,
   "metadata": {},
   "outputs": [
    {
     "data": {
      "text/plain": [
       "array([0.71813538, 0.70984487, 0.68095711, 0.68466573, 0.69029751,\n",
       "       0.7268955 , 0.64954972, 0.66862221, 0.70706166, 0.72153422])"
      ]
     },
     "execution_count": 114,
     "metadata": {},
     "output_type": "execute_result"
    }
   ],
   "source": [
    "AUC_test2"
   ]
  },
  {
   "cell_type": "code",
   "execution_count": null,
   "metadata": {},
   "outputs": [],
   "source": []
  },
  {
   "cell_type": "code",
   "execution_count": 115,
   "metadata": {},
   "outputs": [],
   "source": [
    "K1_same_order_entity = K1.copy()\n",
    "K2_same_order_entity = K2.copy()\n",
    "K_smae_order_entity = K.copy()"
   ]
  },
  {
   "cell_type": "code",
   "execution_count": null,
   "metadata": {},
   "outputs": [],
   "source": []
  },
  {
   "cell_type": "code",
   "execution_count": null,
   "metadata": {},
   "outputs": [],
   "source": []
  }
 ],
 "metadata": {
  "kernelspec": {
   "display_name": "Python 3",
   "language": "python",
   "name": "python3"
  },
  "language_info": {
   "codemirror_mode": {
    "name": "ipython",
    "version": 3
   },
   "file_extension": ".py",
   "mimetype": "text/x-python",
   "name": "python",
   "nbconvert_exporter": "python",
   "pygments_lexer": "ipython3",
   "version": "3.7.5"
  }
 },
 "nbformat": 4,
 "nbformat_minor": 4
}
